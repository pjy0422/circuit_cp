{
 "cells": [
  {
   "cell_type": "code",
   "execution_count": 41,
   "metadata": {},
   "outputs": [],
   "source": [
    "import pickle as pkl\n",
    "import numpy as np"
   ]
  },
  {
   "cell_type": "code",
   "execution_count": 57,
   "metadata": {},
   "outputs": [
    {
     "name": "stdout",
     "output_type": "stream",
     "text": [
      "tensor([1.0000, 1.0000, 1.0000,  ..., 0.0000, 0.0000, 0.0000])\n"
     ]
    }
   ],
   "source": [
    "import dgl\n",
    "import inspect\n",
    "data = pkl.load(open('hetero_900.pickle', 'rb'))\n",
    "print(data[0][0].ndata['label'])\n"
   ]
  },
  {
   "cell_type": "code",
   "execution_count": 48,
   "metadata": {},
   "outputs": [
    {
     "name": "stdout",
     "output_type": "stream",
     "text": [
      "tensor([[19.0000,  9.0000,  3.0000,  ...,  0.6378, 26.4561,  8.4912],\n",
      "        [24.0000,  9.0000,  3.0000,  ...,  0.4640, 27.4783,  8.7391],\n",
      "        [24.0000,  9.0000,  3.0000,  ...,  0.5096, 29.6279,  8.5349],\n",
      "        ...,\n",
      "        [ 0.0000,  0.0000,  1.0000,  ...,  0.0807,  8.0000,  2.7561],\n",
      "        [ 0.0000,  0.0000,  1.0000,  ...,  0.0807,  8.0000,  2.7561],\n",
      "        [ 0.0000,  0.0000,  1.0000,  ...,  0.0807,  8.0000,  2.7561]]) torch.Size([9753, 14])\n"
     ]
    }
   ],
   "source": [
    "print(data[0][0].ndata['feat'],data[0][0].ndata['feat'].shape)"
   ]
  },
  {
   "cell_type": "code",
   "execution_count": 85,
   "metadata": {},
   "outputs": [
    {
     "name": "stdout",
     "output_type": "stream",
     "text": [
      "Removed existing submission directory\n",
      "(9753, 14)\n",
      "dict_keys(['edge_index', 'node_feat', 'node_pos', 'num_nodes'])\n",
      "Saving edge_index\n",
      "Saving all the files!\n",
      "Validating...\n",
      "Reading saved files\n",
      "Loading necessary files...\n",
      "This might take a while.\n",
      "Processing graphs...\n"
     ]
    },
    {
     "name": "stderr",
     "output_type": "stream",
     "text": [
      "100%|██████████| 1/1 [00:00<00:00, 21183.35it/s]\n"
     ]
    },
    {
     "name": "stdout",
     "output_type": "stream",
     "text": [
      "Checking read graphs and given graphs are the same\n"
     ]
    },
    {
     "name": "stderr",
     "output_type": "stream",
     "text": [
      "100%|██████████| 1/1 [00:00<00:00, 363.49it/s]"
     ]
    },
    {
     "name": "stdout",
     "output_type": "stream",
     "text": [
      "(9753, 1)\n",
      "[[0.9999998 ]\n",
      " [0.99999994]\n",
      " [0.9999998 ]\n",
      " ...\n",
      " [0.        ]\n",
      " [0.        ]\n",
      " [0.        ]]\n"
     ]
    },
    {
     "name": "stderr",
     "output_type": "stream",
     "text": [
      "\n"
     ]
    }
   ],
   "source": [
    "from ogb.io import DatasetSaver\n",
    "import torch\n",
    "dataset_name = 'ogbn-superblue19'\n",
    "saver = DatasetSaver(dataset_name = dataset_name, is_hetero = False, version = 1)\n",
    "graph_list = []\n",
    "graph = dict()\n",
    "graph['edge_index'] = np.array(data[0][0].edges())\n",
    "graph['node_feat'] = np.array(data[0][0].ndata['feat'])\n",
    "graph['node_pos'] = np.array(data[0][0].ndata['pos'])\n",
    "print(graph['node_feat'].shape)\n",
    "graph['num_nodes'] = data[0][0].num_nodes()\n",
    "graph_list.append(graph)\n",
    "saver.save_graph_list(graph_list)\n",
    "labels = np.array(data[0][0].ndata['label']).reshape(-1,1)\n",
    "print(labels.shape)\n",
    "saver.save_target_labels(labels)\n",
    "print(labels)\n"
   ]
  },
  {
   "cell_type": "code",
   "execution_count": null,
   "metadata": {},
   "outputs": [],
   "source": []
  }
 ],
 "metadata": {
  "kernelspec": {
   "display_name": "jyp_circuit",
   "language": "python",
   "name": "python3"
  },
  "language_info": {
   "codemirror_mode": {
    "name": "ipython",
    "version": 3
   },
   "file_extension": ".py",
   "mimetype": "text/x-python",
   "name": "python",
   "nbconvert_exporter": "python",
   "pygments_lexer": "ipython3",
   "version": "3.9.18"
  }
 },
 "nbformat": 4,
 "nbformat_minor": 2
}
